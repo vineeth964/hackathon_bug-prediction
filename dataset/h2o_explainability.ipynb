{
 "cells": [
  {
   "cell_type": "code",
   "execution_count": null,
   "id": "6ae7d0a1",
   "metadata": {},
   "outputs": [],
   "source": [
    "import h2o\n",
    "from h2o.automl import H2OAutoML\n",
    "\n",
    "h2o.init()\n",
    "\n",
    "# Import wine quality dataset\n",
    "f = \"bug_pred.csv\"\n",
    "df = h2o.import_file(f)\n",
    "\n",
    "# Reponse column\n",
    "y = \"defects\"\n",
    "\n",
    "# Split into train & test\n",
    "splits = df.split_frame(ratios = [0.8], seed = 1)\n",
    "train = splits[0]\n",
    "test = splits[1]\n",
    "\n",
    "# Run AutoML for 1 minute\n",
    "aml = H2OAutoML(max_runtime_secs=60, seed=1)\n",
    "aml.train(y=y, training_frame=train)\n",
    "\n",
    "# Explain leader model & compare with all AutoML models\n",
    "exa = aml.explain(test)\n",
    "\n",
    "# Explain a single H2O model (e.g. leader model from AutoML)\n",
    "exm = aml.leader.explain(test)\n",
    "\n",
    "# Explain a generic list of models\n",
    "# use h2o.explain as follows:\n",
    "# exl = h2o.explain(model_list, test)\n",
    "\n",
    "#       1. loc             : numeric % McCabe's line count of code\n",
    "#       2. v(g)            : numeric % McCabe \"cyclomatic complexity\"\n",
    "#       3. ev(g)           : numeric % McCabe \"essential complexity\"\n",
    "#       4. iv(g)           : numeric % McCabe \"design complexity\"\n",
    "#       5. n               : numeric % Halstead total operators + operands\n",
    "#       6. v               : numeric % Halstead \"volume\"\n",
    "#       7. l               : numeric % Halstead \"program length\"\n",
    "#       8. d               : numeric % Halstead \"difficulty\"\n",
    "#       9. i               : numeric % Halstead \"intelligence\"\n",
    "#      10. e               : numeric % Halstead \"effort\"\n",
    "#      11. b               : numeric % Halstead \n",
    "#      12. t               : numeric % Halstead's time estimator\n",
    "#      13. lOCode          : numeric % Halstead's line count\n",
    "#      14. lOComment       : numeric % Halstead's count of lines of comments\n",
    "#      15. lOBlank         : numeric % Halstead's count of blank lines\n",
    "#      16. lOCodeAndComment: numeric\n",
    "#      17. uniq_Op         : numeric % unique operators\n",
    "#      18. uniq_Opnd       : numeric % unique operands\n",
    "#      19. total_Op        : numeric % total operators\n",
    "#      20. total_Opnd      : numeric % total operands\n",
    "#      21: branchCount     : numeric % of the flow graph\n",
    "#      22. defects         : {false,true} % module has/has not one or more \n",
    "#                                         % reported defects\n"
   ]
  }
 ],
 "metadata": {
  "kernelspec": {
   "display_name": "Python 3",
   "language": "python",
   "name": "python3"
  },
  "language_info": {
   "codemirror_mode": {
    "name": "ipython",
    "version": 3
   },
   "file_extension": ".py",
   "mimetype": "text/x-python",
   "name": "python",
   "nbconvert_exporter": "python",
   "pygments_lexer": "ipython3",
   "version": "3.8.8"
  }
 },
 "nbformat": 4,
 "nbformat_minor": 5
}
