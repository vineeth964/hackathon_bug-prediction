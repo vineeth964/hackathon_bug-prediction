{
 "cells": [
  {
   "cell_type": "code",
   "execution_count": null,
   "id": "88f3cad6",
   "metadata": {},
   "outputs": [],
   "source": [
    "from sklearn.model_selection import train_test_split\n",
    "\n",
    "import numpy as np\n",
    "import pandas as pd\n",
    "from sklearn.ensemble import RandomForestClassifier\n",
    "import lime\n",
    "from lime import lime_tabular\n",
    "\n",
    "\n",
    "bug_df = pd.read_csv('bug_pred.csv')\n",
    "\n",
    "\n",
    "X = bug_df.drop('defects', axis=1)\n",
    "y = bug_df['defects']\n",
    "\n",
    "X_train, X_test, y_train, y_test = train_test_split(X, y, test_size=0.2, random_state=42)\n",
    "\n",
    "\n",
    "model = RandomForestClassifier(random_state=42)\n",
    "model.fit(X_train, y_train)\n",
    "score = model.score(X_test, y_test)\n",
    "\n",
    "\n",
    "\n",
    "explainer = lime_tabular.LimeTabularExplainer(\n",
    "    training_data=np.array(X_train),\n",
    "    feature_names=X_train.columns,\n",
    "    class_names=[True', False],\n",
    "    mode='classification'\n",
    ")\n",
    "\n",
    "\n",
    "\n",
    "# defect = true\n",
    "exp = explainer.explain_instance(\n",
    "    data_row=X_test.iloc[1], \n",
    "    predict_fn=model.predict_proba\n",
    ")\n",
    "\n",
    "exp.show_in_notebook(show_table=True)\n",
    "\n",
    "\n",
    "# defect = false\n",
    "\n",
    "exp = explainer.explain_instance(\n",
    "    data_row=X_test.iloc[4], \n",
    "    predict_fn=model.predict_proba\n",
    ")\n",
    "\n",
    "exp.show_in_notebook(show_table=True)\n"
   ]
  },
  {
   "cell_type": "code",
   "execution_count": null,
   "id": "6bb05577",
   "metadata": {},
   "outputs": [],
   "source": []
  }
 ],
 "metadata": {
  "kernelspec": {
   "display_name": "Python 3",
   "language": "python",
   "name": "python3"
  },
  "language_info": {
   "codemirror_mode": {
    "name": "ipython",
    "version": 3
   },
   "file_extension": ".py",
   "mimetype": "text/x-python",
   "name": "python",
   "nbconvert_exporter": "python",
   "pygments_lexer": "ipython3",
   "version": "3.8.8"
  }
 },
 "nbformat": 4,
 "nbformat_minor": 5
}
